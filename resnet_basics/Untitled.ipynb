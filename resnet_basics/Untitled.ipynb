{
 "cells": [
  {
   "cell_type": "code",
   "execution_count": 3,
   "metadata": {},
   "outputs": [],
   "source": [
    "import torch\n",
    "import torchvision\n",
    "import numpy as np\n",
    "import torchvision.transforms as transforms  # To transform the CIFAR 10 dataset in the right format\n",
    "import torch.nn.functional as F\n",
    "import torch.nn as nn"
   ]
  },
  {
   "cell_type": "code",
   "execution_count": 5,
   "metadata": {},
   "outputs": [],
   "source": [
    "class baseBlock(nn.Module):\n",
    "    expansion = 1\n",
    "    def __init__(self, input_planes, planes, stride = 1, dim_change = None): # Dim change when the number of filter will change from input to the output\n",
    "        super(baseBlock, self).__init__()\n",
    "        \n",
    "        # Convolutional layers with the batch norms\n",
    "        \n",
    "        self.conv1 = nn.Conv2d(input_feature_map, output_feature_map, stride=stride, kernel_size=3, padding=1)\n",
    "        self.bn1 = nn.BatchNorm2d(output_feature_map)\n",
    "        self.conv2 = nn.Conv2d(output_feature_map, output_feature_map, stride = 1, kernel_size=3, padding=1)\n",
    "        self.bn2 = nn.BatchNorm2d(output_feature_map)\n",
    "        self.dim_change = dim_change\n",
    "        \n",
    "    def forward(self, x):\n",
    "        \n",
    "        res = x\n",
    "        \n",
    "        output = F.relu(self.bn1(self.conv1(x)))\n",
    "        output = self.bn2(self.conv2(output))\n",
    "        \n",
    "        if self.dim_change is not None:\n",
    "            res = self.dim_change(res)\n",
    "            \n",
    "        output = output + x\n",
    "        \n",
    "        output = F.relu(output)\n",
    "        \n",
    "        return output"
   ]
  },
  {
   "cell_type": "code",
   "execution_count": null,
   "metadata": {},
   "outputs": [],
   "source": []
  }
 ],
 "metadata": {
  "kernelspec": {
   "display_name": "Python 3",
   "language": "python",
   "name": "python3"
  },
  "language_info": {
   "codemirror_mode": {
    "name": "ipython",
    "version": 3
   },
   "file_extension": ".py",
   "mimetype": "text/x-python",
   "name": "python",
   "nbconvert_exporter": "python",
   "pygments_lexer": "ipython3",
   "version": "3.6.8"
  }
 },
 "nbformat": 4,
 "nbformat_minor": 2
}
