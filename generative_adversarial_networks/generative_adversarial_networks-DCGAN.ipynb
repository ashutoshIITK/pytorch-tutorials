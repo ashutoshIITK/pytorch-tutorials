{
 "cells": [
  {
   "cell_type": "code",
   "execution_count": 7,
   "metadata": {},
   "outputs": [],
   "source": [
    "import torch\n",
    "import torchvision\n",
    "import torch.nn as nn # Neural Network Modules suchas nn.Linear, nn.Conv, nn.BatchNorm, Loss Functions, etc.\n",
    "import torch.optim as optim # Optimization algorithms such as Adam, SGD, etc.\n",
    "import torchvision.datasets as datasets # For importing standard datasets\n",
    "import torchvision.transforms as transforms # Transformations that can be performed on the datasets\n",
    "from torch.utils.data import DataLoader # Easier dataset management and mini-batches\n",
    "from torch.utils.tensorboard import SummaryWriter"
   ]
  },
  {
   "cell_type": "code",
   "execution_count": 9,
   "metadata": {},
   "outputs": [],
   "source": [
    "# You can import these classes from a new python script\n",
    "\n",
    "# e.g. from model_utils import Discriminator, Generator"
   ]
  },
  {
   "cell_type": "code",
   "execution_count": null,
   "metadata": {},
   "outputs": [],
   "source": [
    "class Discriminator(nn.Module):\n",
    "    \n",
    "    def __init__(self, channels_img, features_d):  # features_d: How many channels the architecture is gonna use for each layer\n",
    "        super(Discriminator, self).__init__()\n",
    "        \n",
    "        # LeakyRELU and BatchNorm stablizes the training in an architecture\n",
    "        self.net = nn.Sequential(\n",
    "            \n",
    "            # N x channels_img x 64 x 64\n",
    "            nn.Conv2d(channels_img, features_d, kernel_size = 4, stride = 2, padding = 1),\n",
    "            nn.LeakyReLU(0.2),\n",
    "            \n",
    "            # N x features_d x 32 x 32\n",
    "            nn.Conv2d(features_d, features_d*2, kernel_size = 4, stride = 2, padding = 1 ),\n",
    "            nn.BatchNorm2d(features_d*2),\n",
    "            nn.LeakyReLU(0.2),\n",
    "            \n",
    "            # N x features_d*2 x 16 x 16\n",
    "            nn.Conv2d(features_d*2, features_d*4, kernel_size = 4, stride = 2, padding = 1),\n",
    "            nn.BatchNorm2d(features_d*4),\n",
    "            nn.LeakyReLU(0.2),\n",
    "            \n",
    "            # N x features_d*4 x 8 x 8\n",
    "            nn.Conv2d(features_d*4, features_d*8, kernel_size = 4, stride = 2, padding = 1),\n",
    "            nn.BatchNorm2d(features_d*8),\n",
    "            nn.LeakyReLU(0.2),\n",
    "            \n",
    "            # N x features_d*8 x 4 x 4\n",
    "            nn.Conv2d(features_d*8, 1, kernel_size =4, stride = 2, padding =0),\n",
    "            \n",
    "            # N x 1 x 1 x 1  => Just see now if the value is 0 or 1 to discriminate\n",
    "            nn.Sigmoid()\n",
    "        \n",
    "        )\n",
    "        \n",
    "    def forward(self, x):\n",
    "        \n",
    "        # Because it is through a Sequential Layer, we do not have to explicitly define the order. It is more like already defined\n",
    "        return self.net(x)        "
   ]
  }
 ],
 "metadata": {
  "kernelspec": {
   "display_name": "Python 3",
   "language": "python",
   "name": "python3"
  },
  "language_info": {
   "codemirror_mode": {
    "name": "ipython",
    "version": 3
   },
   "file_extension": ".py",
   "mimetype": "text/x-python",
   "name": "python",
   "nbconvert_exporter": "python",
   "pygments_lexer": "ipython3",
   "version": "3.7.3"
  }
 },
 "nbformat": 4,
 "nbformat_minor": 2
}
