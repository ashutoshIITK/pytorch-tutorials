{
 "cells": [
  {
   "cell_type": "code",
   "execution_count": 11,
   "metadata": {},
   "outputs": [],
   "source": [
    "import torch\n",
    "import torchvision\n",
    "import torch.nn as nn # Neural Network Modules suchas nn.Linear, nn.Conv, nn.BatchNorm, Loss Functions, etc.\n",
    "import torch.optim as optim # Optimization algorithms such as Adam, SGD, etc.\n",
    "import torchvision.datasets as datasets # For importing standard datasets\n",
    "import torchvision.transforms as transforms # Transformations that can be performed on the datasets\n",
    "from torch.utils.data import DataLoader # Easier dataset management and mini-batches\n",
    "from torch.utils.tensorboard import SummaryWriter"
   ]
  },
  {
   "cell_type": "code",
   "execution_count": 12,
   "metadata": {},
   "outputs": [],
   "source": [
    "# You can import these classes from a new python script\n",
    "\n",
    "# e.g. from model_utils import Discriminator, Generator"
   ]
  },
  {
   "cell_type": "code",
   "execution_count": 16,
   "metadata": {},
   "outputs": [],
   "source": [
    "class Discriminator(nn.Module):\n",
    "    \n",
    "    def __init__(self, channels_img, features_d):  # features_d: How many channels the architecture is gonna use for each layer\n",
    "        super(Discriminator, self).__init__()\n",
    "        \n",
    "        # LeakyRELU and BatchNorm stablizes the training in an architecture\n",
    "        self.net = nn.Sequential(\n",
    "            \n",
    "            # N x channels_img x 64 x 64\n",
    "            nn.Conv2d(channels_img, features_d, kernel_size = 4, stride = 2, padding = 1),\n",
    "            nn.LeakyReLU(0.2),\n",
    "            \n",
    "            # N x features_d x 32 x 32\n",
    "            nn.Conv2d(features_d, features_d*2, kernel_size = 4, stride = 2, padding = 1 ),\n",
    "            nn.BatchNorm2d(features_d*2),\n",
    "            nn.LeakyReLU(0.2),\n",
    "            \n",
    "            # N x features_d*2 x 16 x 16\n",
    "            nn.Conv2d(features_d*2, features_d*4, kernel_size = 4, stride = 2, padding = 1),\n",
    "            nn.BatchNorm2d(features_d*4),\n",
    "            nn.LeakyReLU(0.2),\n",
    "            \n",
    "            # N x features_d*4 x 8 x 8\n",
    "            nn.Conv2d(features_d*4, features_d*8, kernel_size = 4, stride = 2, padding = 1),\n",
    "            nn.BatchNorm2d(features_d*8),\n",
    "            nn.LeakyReLU(0.2),\n",
    "            \n",
    "            # N x features_d*8 x 4 x 4\n",
    "            nn.Conv2d(features_d*8, 1, kernel_size =4, stride = 2, padding =0),\n",
    "            \n",
    "            # N x 1 x 1 x 1  => Just see now if the value is 0 or 1 to discriminate\n",
    "            nn.Sigmoid()\n",
    "        \n",
    "        )\n",
    "        \n",
    "    def forward(self, x):\n",
    "        \n",
    "        # Because it is through a Sequential Layer, we do not have to explicitly define the order. It is more like already defined\n",
    "        return self.net(x)        "
   ]
  },
  {
   "cell_type": "code",
   "execution_count": 17,
   "metadata": {},
   "outputs": [],
   "source": [
    "class Generator(nn.Module):\n",
    "    # Channel noise is the length of the noise vector and channel_img is the number of channels in the output image\n",
    "    def __init__(self, channels_noise, channels_img, features_g):\n",
    "        super(Generator, self).__init__()\n",
    "        self.net = nn.Sequential(\n",
    "            # N x channels_noise x 1 x 1\n",
    "            nn.ConvTranspose2d(channels_noise, features_g*16, kernel_size = 4, stride = 1, padding = 0),\n",
    "            nn.BatchNorm2d(features_g*16),\n",
    "            nn.ReLU(features_g*16),\n",
    "            \n",
    "            # N x features_g x 4 x 4\n",
    "            nn.ConvTranspose2d(features_g*16, features_g*8, kernel_size = 4, stride = 2, padding =1),\n",
    "            nn.BatchNorm2d(features_g*8),\n",
    "            nn.ReLU(features_g*8),\n",
    "            \n",
    "            nn.ConvTranspose2d(features_g*8, features_g*4, kernel_size = 4, stride = 2, padding =1),\n",
    "            nn.BatchNorm2d(features_g*4),\n",
    "            nn.ReLU(features_g*4),\n",
    "            \n",
    "            nn.ConvTranspose2d(features_g*4, features_g*2, kernel_size = 4, stride = 2, padding =1),\n",
    "            nn.BatchNorm2d(features_g*2),\n",
    "            nn.ReLU(features_g*2),\n",
    "            \n",
    "            nn.ConvTranspose2d(features_g*2, channels_img, kernel_size =4, stride =2, padding =1),\n",
    "            # N x channel_img x 64 x 64\n",
    "            nn.Tanh()\n",
    "        )\n",
    "    \n",
    "    def forward(self, x):\n",
    "        return self.net(x)"
   ]
  },
  {
   "cell_type": "code",
   "execution_count": 18,
   "metadata": {},
   "outputs": [],
   "source": [
    "# Hyperparameters\n",
    "lr = 0.0002\n",
    "batch_size = 64\n",
    "image_size = 64 # 28x28\n",
    "channel_img = 1  # Since MNIST\n",
    "channel_noise = 256\n",
    "num_epochs = 10\n",
    "\n",
    "features_d = 16\n",
    "features_g = 16\n",
    "\n",
    "my_transforms = transforms.Compose([\n",
    "    transforms.Resize(image_size),\n",
    "    transforms.ToTensor(),\n",
    "    transforms.Normalize((0.5,), (0.5,)),\n",
    "]\n",
    ")\n",
    "\n",
    "dataset = datasets.MNIST(root= \"dataset/\", train = True, transform= my_transforms, download = True)\n",
    "dataloader = DataLoader(dataset, batch_size= batch_size, shuffle = True)\n",
    "\n",
    "device = torch.device(\"cuda\" if torch.cuda.is_available() else \"cpu\")\n",
    "\n",
    "# Create discriminator and generator\n",
    "\n",
    "netD = Discriminator(channel_img, features_d).to(device)\n",
    "netG = Generator(channel_noise, channel_img, features_g).to(device)\n",
    "\n",
    "# Optimizers for G and D\n",
    "\n",
    "optimizerD = optim.Adam(netD.parameters(), lr =lr, betas = (0.5, 0.999))\n",
    "optimizerG = optim.Adam(netG.parameters(), lr =lr, betas = (0.5, 0.999))\n",
    "\n",
    "netG.train()\n",
    "netD.train()\n",
    "\n",
    "# Loss function\n",
    "criterion = nn.BCELoss()"
   ]
  },
  {
   "cell_type": "code",
   "execution_count": 19,
   "metadata": {},
   "outputs": [],
   "source": [
    "real_label = 1\n",
    "fake_label = 0"
   ]
  },
  {
   "cell_type": "code",
   "execution_count": 20,
   "metadata": {},
   "outputs": [],
   "source": [
    "fixed_noise = torch.randn(64, channel_noise, 1, 1).to(device)"
   ]
  },
  {
   "cell_type": "code",
   "execution_count": 21,
   "metadata": {},
   "outputs": [],
   "source": [
    "writer_real = SummaryWriter(f'runs/DC-GAN/test_real')\n",
    "writer_fake = SummaryWriter(f'runs/DC-GAN/test_fake')"
   ]
  },
  {
   "cell_type": "code",
   "execution_count": 24,
   "metadata": {},
   "outputs": [
    {
     "name": "stdout",
     "output_type": "stream",
     "text": [
      "Starting training\n",
      "Epoch [0/10] Batch 0/938 Loss D: 1.4244,             Loss G: 0.9433 D(x): 0.4427\n",
      "Epoch [0/10] Batch 100/938 Loss D: 0.6684,             Loss G: 2.9035 D(x): 0.8783\n",
      "Epoch [0/10] Batch 200/938 Loss D: 0.6648,             Loss G: 2.5056 D(x): 0.8716\n",
      "Epoch [0/10] Batch 300/938 Loss D: 0.7007,             Loss G: 2.1429 D(x): 0.8183\n"
     ]
    },
    {
     "ename": "KeyboardInterrupt",
     "evalue": "",
     "output_type": "error",
     "traceback": [
      "\u001b[0;31m---------------------------------------------------------------------------\u001b[0m",
      "\u001b[0;31mKeyboardInterrupt\u001b[0m                         Traceback (most recent call last)",
      "\u001b[0;32m<ipython-input-24-ba3acf86189f>\u001b[0m in \u001b[0;36m<module>\u001b[0;34m\u001b[0m\n\u001b[1;32m     37\u001b[0m         \u001b[0moutput\u001b[0m \u001b[0;34m=\u001b[0m \u001b[0mnetD\u001b[0m\u001b[0;34m(\u001b[0m\u001b[0mfake\u001b[0m\u001b[0;34m)\u001b[0m\u001b[0;34m.\u001b[0m\u001b[0mreshape\u001b[0m\u001b[0;34m(\u001b[0m\u001b[0;34m-\u001b[0m\u001b[0;36m1\u001b[0m\u001b[0;34m)\u001b[0m\u001b[0;34m\u001b[0m\u001b[0;34m\u001b[0m\u001b[0m\n\u001b[1;32m     38\u001b[0m         \u001b[0mlossG\u001b[0m \u001b[0;34m=\u001b[0m \u001b[0mcriterion\u001b[0m\u001b[0;34m(\u001b[0m\u001b[0moutput\u001b[0m\u001b[0;34m,\u001b[0m \u001b[0mlabel\u001b[0m\u001b[0;34m)\u001b[0m\u001b[0;34m\u001b[0m\u001b[0;34m\u001b[0m\u001b[0m\n\u001b[0;32m---> 39\u001b[0;31m         \u001b[0mlossG\u001b[0m\u001b[0;34m.\u001b[0m\u001b[0mbackward\u001b[0m\u001b[0;34m(\u001b[0m\u001b[0;34m)\u001b[0m\u001b[0;34m\u001b[0m\u001b[0;34m\u001b[0m\u001b[0m\n\u001b[0m\u001b[1;32m     40\u001b[0m         \u001b[0moptimizerG\u001b[0m\u001b[0;34m.\u001b[0m\u001b[0mstep\u001b[0m\u001b[0;34m(\u001b[0m\u001b[0;34m)\u001b[0m\u001b[0;34m\u001b[0m\u001b[0;34m\u001b[0m\u001b[0m\n\u001b[1;32m     41\u001b[0m \u001b[0;34m\u001b[0m\u001b[0m\n",
      "\u001b[0;32m~/miniconda3/envs/nndl_mac/lib/python3.7/site-packages/torch/tensor.py\u001b[0m in \u001b[0;36mbackward\u001b[0;34m(self, gradient, retain_graph, create_graph)\u001b[0m\n\u001b[1;32m    196\u001b[0m                 \u001b[0mproducts\u001b[0m\u001b[0;34m.\u001b[0m \u001b[0mDefaults\u001b[0m \u001b[0mto\u001b[0m\u001b[0;31m \u001b[0m\u001b[0;31m`\u001b[0m\u001b[0;31m`\u001b[0m\u001b[0;32mFalse\u001b[0m\u001b[0;31m`\u001b[0m\u001b[0;31m`\u001b[0m\u001b[0;34m.\u001b[0m\u001b[0;34m\u001b[0m\u001b[0;34m\u001b[0m\u001b[0m\n\u001b[1;32m    197\u001b[0m         \"\"\"\n\u001b[0;32m--> 198\u001b[0;31m         \u001b[0mtorch\u001b[0m\u001b[0;34m.\u001b[0m\u001b[0mautograd\u001b[0m\u001b[0;34m.\u001b[0m\u001b[0mbackward\u001b[0m\u001b[0;34m(\u001b[0m\u001b[0mself\u001b[0m\u001b[0;34m,\u001b[0m \u001b[0mgradient\u001b[0m\u001b[0;34m,\u001b[0m \u001b[0mretain_graph\u001b[0m\u001b[0;34m,\u001b[0m \u001b[0mcreate_graph\u001b[0m\u001b[0;34m)\u001b[0m\u001b[0;34m\u001b[0m\u001b[0;34m\u001b[0m\u001b[0m\n\u001b[0m\u001b[1;32m    199\u001b[0m \u001b[0;34m\u001b[0m\u001b[0m\n\u001b[1;32m    200\u001b[0m     \u001b[0;32mdef\u001b[0m \u001b[0mregister_hook\u001b[0m\u001b[0;34m(\u001b[0m\u001b[0mself\u001b[0m\u001b[0;34m,\u001b[0m \u001b[0mhook\u001b[0m\u001b[0;34m)\u001b[0m\u001b[0;34m:\u001b[0m\u001b[0;34m\u001b[0m\u001b[0;34m\u001b[0m\u001b[0m\n",
      "\u001b[0;32m~/miniconda3/envs/nndl_mac/lib/python3.7/site-packages/torch/autograd/__init__.py\u001b[0m in \u001b[0;36mbackward\u001b[0;34m(tensors, grad_tensors, retain_graph, create_graph, grad_variables)\u001b[0m\n\u001b[1;32m     98\u001b[0m     Variable._execution_engine.run_backward(\n\u001b[1;32m     99\u001b[0m         \u001b[0mtensors\u001b[0m\u001b[0;34m,\u001b[0m \u001b[0mgrad_tensors\u001b[0m\u001b[0;34m,\u001b[0m \u001b[0mretain_graph\u001b[0m\u001b[0;34m,\u001b[0m \u001b[0mcreate_graph\u001b[0m\u001b[0;34m,\u001b[0m\u001b[0;34m\u001b[0m\u001b[0;34m\u001b[0m\u001b[0m\n\u001b[0;32m--> 100\u001b[0;31m         allow_unreachable=True)  # allow_unreachable flag\n\u001b[0m\u001b[1;32m    101\u001b[0m \u001b[0;34m\u001b[0m\u001b[0m\n\u001b[1;32m    102\u001b[0m \u001b[0;34m\u001b[0m\u001b[0m\n",
      "\u001b[0;31mKeyboardInterrupt\u001b[0m: "
     ]
    }
   ],
   "source": [
    "print(\"Starting training\")\n",
    "\n",
    "for epoch in range(num_epochs):\n",
    "    for batch_idx, (data, targets) in enumerate(dataloader):\n",
    "        data = data.to(device)\n",
    "        batch_size = data.shape[0]\n",
    "        \n",
    "        ## Training Discriminator: max log(D(x)) + log(1 - D(G(z)))\n",
    "        \n",
    "        netD.zero_grad()\n",
    "        label = (torch.ones(batch_size)*0.9).to(device)\n",
    "        \n",
    "        output = netD(data).reshape(-1)\n",
    "        lossD_real = criterion(output, label)\n",
    "        D_x = output.mean()\n",
    "        \n",
    "        \n",
    "        # Next we will calculate the loss again but this time on the fake images and then will combine the two losses\n",
    "        # But this time, we will not calculate the gradient\n",
    "        \n",
    "        noise = torch.randn(64, channel_noise, 1, 1).to(device)\n",
    "        label = (torch.ones(batch_size)*0.1).to(device)\n",
    "        fake = netG(noise)\n",
    "        \n",
    "        output = netD(fake.detach()).reshape(-1) # .detach() because we do not want to calculate gradient\n",
    "        lossD_fake = criterion(output, label)\n",
    "        \n",
    "        lossD = lossD_fake + lossD_real\n",
    "        \n",
    "        lossD.backward()\n",
    "        optimizerD.step()\n",
    "        \n",
    "        # Training the Generator: max log(D(G(z)))\n",
    "        \n",
    "        netG.zero_grad()\n",
    "        label = torch.ones(batch_size).to(device)\n",
    "        output = netD(fake).reshape(-1)\n",
    "        lossG = criterion(output, label)\n",
    "        lossG.backward()\n",
    "        optimizerG.step()\n",
    "        \n",
    "        if batch_idx % 100 == 0:\n",
    "            print(f\"Epoch [{epoch}/{num_epochs}] Batch {batch_idx}/{len(dataloader)} Loss D: {lossD:.4f},\\\n",
    "             Loss G: {lossG:.4f} D(x): {D_x:.4f}\")\n",
    "            \n",
    "            \n",
    "            with torch.no_grad():\n",
    "                fake = netG(fixed_noise)\n",
    "                \n",
    "                img_grid_real = torchvision.utils.make_grid(data[:32], normalize = True)\n",
    "                img_grid_fake = torchvision.utils.make_grid(fake[:32], normalize = True)\n",
    "                writer_real.add_image(\"MNIST Real\", img_grid_real)\n",
    "                writer_fake.add_image(\"MNIST Fake\", img_grid_fake)"
   ]
  }
 ],
 "metadata": {
  "kernelspec": {
   "display_name": "Python 3",
   "language": "python",
   "name": "python3"
  },
  "language_info": {
   "codemirror_mode": {
    "name": "ipython",
    "version": 3
   },
   "file_extension": ".py",
   "mimetype": "text/x-python",
   "name": "python",
   "nbconvert_exporter": "python",
   "pygments_lexer": "ipython3",
   "version": "3.7.3"
  }
 },
 "nbformat": 4,
 "nbformat_minor": 2
}
